{
 "cells": [
  {
   "cell_type": "markdown",
   "metadata": {},
   "source": [
    "### Import Libraries"
   ]
  },
  {
   "cell_type": "code",
   "execution_count": 1,
   "metadata": {
    "tags": []
   },
   "outputs": [],
   "source": [
    "import warnings\n",
    "\n",
    "warnings.filterwarnings(\"ignore\")"
   ]
  },
  {
   "cell_type": "code",
   "execution_count": 2,
   "metadata": {
    "tags": []
   },
   "outputs": [],
   "source": [
    "import hydra\n",
    "from hydra import initialize, compose\n",
    "\n",
    "import torch\n",
    "import matplotlib.pyplot as plt\n",
    "import lightning as L\n",
    "from lightning.pytorch.tuner import Tuner\n",
    "from lightning.pytorch.callbacks import ModelSummary, ModelCheckpoint"
   ]
  },
  {
   "cell_type": "code",
   "execution_count": 3,
   "metadata": {
    "tags": []
   },
   "outputs": [
    {
     "name": "stderr",
     "output_type": "stream",
     "text": [
      "/home/ravi.naik/miniconda3/envs/torchenv/lib/python3.10/site-packages/pl_bolts/models/self_supervised/amdim/amdim_module.py:34: UnderReviewWarning: The feature generate_power_seq is currently marked under review. The compatibility with other Lightning projects is not guaranteed and API may change at any time. The API and functionality may change without warning in future releases. More details: https://lightning-bolts.readthedocs.io/en/latest/stability.html\n",
      "  \"lr_options\": generate_power_seq(LEARNING_RATE_CIFAR, 11),\n",
      "/home/ravi.naik/miniconda3/envs/torchenv/lib/python3.10/site-packages/pl_bolts/models/self_supervised/amdim/amdim_module.py:92: UnderReviewWarning: The feature FeatureMapContrastiveTask is currently marked under review. The compatibility with other Lightning projects is not guaranteed and API may change at any time. The API and functionality may change without warning in future releases. More details: https://lightning-bolts.readthedocs.io/en/latest/stability.html\n",
      "  contrastive_task: Union[FeatureMapContrastiveTask] = FeatureMapContrastiveTask(\"01, 02, 11\"),\n",
      "/home/ravi.naik/miniconda3/envs/torchenv/lib/python3.10/site-packages/pl_bolts/losses/self_supervised_learning.py:228: UnderReviewWarning: The feature AmdimNCELoss is currently marked under review. The compatibility with other Lightning projects is not guaranteed and API may change at any time. The API and functionality may change without warning in future releases. More details: https://lightning-bolts.readthedocs.io/en/latest/stability.html\n",
      "  self.nce_loss = AmdimNCELoss(tclip)\n"
     ]
    }
   ],
   "source": [
    "from src.models.vae import VAE\n",
    "from src.data.vae_data import MNISTDataModule\n",
    "from src.utils.vae_transforms import mnist_transforms\n",
    "from src.utils.initialize import create_dirs\n",
    "from src.utils.plotting import plot_vae_samples, plot_vae_results"
   ]
  },
  {
   "cell_type": "markdown",
   "metadata": {},
   "source": [
    "### Load Config"
   ]
  },
  {
   "cell_type": "code",
   "execution_count": 4,
   "metadata": {
    "tags": []
   },
   "outputs": [],
   "source": [
    "try:\n",
    "    initialize(version_base=\"1.3\", config_path=\".\", job_name=\"all\")\n",
    "except ValueError:\n",
    "    hydra.core.global_hydra.GlobalHydra.instance().clear()\n",
    "    initialize(version_base=\"1.3\", config_path=\".\", job_name=\"all\")\n"
   ]
  },
  {
   "cell_type": "code",
   "execution_count": 5,
   "metadata": {
    "tags": []
   },
   "outputs": [],
   "source": [
    "cfg = compose(config_name=\"config\")"
   ]
  },
  {
   "cell_type": "markdown",
   "metadata": {},
   "source": [
    "### Create Required Directories"
   ]
  },
  {
   "cell_type": "code",
   "execution_count": 6,
   "metadata": {
    "tags": []
   },
   "outputs": [],
   "source": [
    "create_dirs(\n",
    "    [\n",
    "        cfg.root.data_path,\n",
    "        cfg.root.models,\n",
    "        cfg.root.logs,\n",
    "        cfg.vae.data.mnist,\n",
    "        cfg.vae.models,\n",
    "        cfg.vae.logs,\n",
    "    ],\n",
    "    \".\",\n",
    ")\n"
   ]
  },
  {
   "cell_type": "markdown",
   "metadata": {},
   "source": [
    "### Load the Data"
   ]
  },
  {
   "cell_type": "code",
   "execution_count": 7,
   "metadata": {
    "tags": []
   },
   "outputs": [],
   "source": [
    "datamodule = MNISTDataModule(\n",
    "    path=cfg.vae.data.mnist,\n",
    "    transforms=mnist_transforms,\n",
    "    num_classes=10,\n",
    "    batch_size=cfg.vae.batch_size,\n",
    ")\n",
    "datamodule.setup()\n"
   ]
  },
  {
   "cell_type": "markdown",
   "metadata": {},
   "source": [
    "### Plot Sample Images"
   ]
  },
  {
   "cell_type": "code",
   "execution_count": 8,
   "metadata": {
    "tags": []
   },
   "outputs": [
    {
     "data": {
      "image/png": "[encoded data removed]",
      "text/plain": [
       "<Figure size 1500x1000 with 5 Axes>"
      ]
     },
     "metadata": {},
     "output_type": "display_data"
    }
   ],
   "source": [
    "plot_vae_samples(datamodule=datamodule,\n",
    "                 class_map=datamodule.train_dataset.data.classes,\n",
    "                 num_images=5)"
   ]
  },
  {
   "cell_type": "markdown",
   "metadata": {},
   "source": [
    "### Loading the Model"
   ]
  },
  {
   "cell_type": "code",
   "execution_count": 9,
   "metadata": {
    "tags": []
   },
   "outputs": [
    {
     "name": "stderr",
     "output_type": "stream",
     "text": [
      "/home/ravi.naik/learning/era/s18/src/models/vae.py:29: UnderReviewWarning: The feature resnet18_encoder is currently marked under review. The compatibility with other Lightning projects is not guaranteed and API may change at any time. The API and functionality may change without warning in future releases. More details: https://lightning-bolts.readthedocs.io/en/latest/stability.html\n",
      "  self.encoder = resnet18_encoder(False, False)\n",
      "/home/ravi.naik/miniconda3/envs/torchenv/lib/python3.10/site-packages/pl_bolts/models/autoencoders/components.py:334: UnderReviewWarning: The feature ResNetEncoder is currently marked under review. The compatibility with other Lightning projects is not guaranteed and API may change at any time. The API and functionality may change without warning in future releases. More details: https://lightning-bolts.readthedocs.io/en/latest/stability.html\n",
      "  return ResNetEncoder(EncoderBlock, [2, 2, 2, 2], first_conv, maxpool1)\n",
      "/home/ravi.naik/miniconda3/envs/torchenv/lib/python3.10/site-packages/pl_bolts/models/autoencoders/components.py:236: UnderReviewWarning: The feature EncoderBlock is currently marked under review. The compatibility with other Lightning projects is not guaranteed and API may change at any time. The API and functionality may change without warning in future releases. More details: https://lightning-bolts.readthedocs.io/en/latest/stability.html\n",
      "  layers.append(block(self.inplanes, planes, stride, downsample))\n",
      "/home/ravi.naik/miniconda3/envs/torchenv/lib/python3.10/site-packages/pl_bolts/models/autoencoders/components.py:56: UnderReviewWarning: The feature conv3x3 is currently marked under review. The compatibility with other Lightning projects is not guaranteed and API may change at any time. The API and functionality may change without warning in future releases. More details: https://lightning-bolts.readthedocs.io/en/latest/stability.html\n",
      "  self.conv1 = conv3x3(inplanes, planes, stride)\n",
      "/home/ravi.naik/miniconda3/envs/torchenv/lib/python3.10/site-packages/pl_bolts/models/autoencoders/components.py:231: UnderReviewWarning: The feature conv1x1 is currently marked under review. The compatibility with other Lightning projects is not guaranteed and API may change at any time. The API and functionality may change without warning in future releases. More details: https://lightning-bolts.readthedocs.io/en/latest/stability.html\n",
      "  conv1x1(self.inplanes, planes * block.expansion, stride),\n",
      "/home/ravi.naik/learning/era/s18/src/models/vae.py:31: UnderReviewWarning: The feature resnet18_decoder is currently marked under review. The compatibility with other Lightning projects is not guaranteed and API may change at any time. The API and functionality may change without warning in future releases. More details: https://lightning-bolts.readthedocs.io/en/latest/stability.html\n",
      "  self.decoder = resnet18_decoder(\n",
      "/home/ravi.naik/miniconda3/envs/torchenv/lib/python3.10/site-packages/pl_bolts/models/autoencoders/components.py:339: UnderReviewWarning: The feature ResNetDecoder is currently marked under review. The compatibility with other Lightning projects is not guaranteed and API may change at any time. The API and functionality may change without warning in future releases. More details: https://lightning-bolts.readthedocs.io/en/latest/stability.html\n",
      "  return ResNetDecoder(DecoderBlock, [2, 2, 2, 2], latent_dim, input_height, first_conv, maxpool1)\n",
      "/home/ravi.naik/miniconda3/envs/torchenv/lib/python3.10/site-packages/pl_bolts/models/autoencoders/components.py:301: UnderReviewWarning: The feature resize_conv1x1 is currently marked under review. The compatibility with other Lightning projects is not guaranteed and API may change at any time. The API and functionality may change without warning in future releases. More details: https://lightning-bolts.readthedocs.io/en/latest/stability.html\n",
      "  resize_conv1x1(self.inplanes, planes * block.expansion, scale),\n",
      "/home/ravi.naik/miniconda3/envs/torchenv/lib/python3.10/site-packages/pl_bolts/models/autoencoders/components.py:45: UnderReviewWarning: The feature Interpolate is currently marked under review. The compatibility with other Lightning projects is not guaranteed and API may change at any time. The API and functionality may change without warning in future releases. More details: https://lightning-bolts.readthedocs.io/en/latest/stability.html\n",
      "  return nn.Sequential(Interpolate(scale_factor=scale), conv1x1(in_planes, out_planes))\n",
      "/home/ravi.naik/miniconda3/envs/torchenv/lib/python3.10/site-packages/pl_bolts/models/autoencoders/components.py:306: UnderReviewWarning: The feature DecoderBlock is currently marked under review. The compatibility with other Lightning projects is not guaranteed and API may change at any time. The API and functionality may change without warning in future releases. More details: https://lightning-bolts.readthedocs.io/en/latest/stability.html\n",
      "  layers.append(block(self.inplanes, planes, scale, upsample))\n",
      "/home/ravi.naik/miniconda3/envs/torchenv/lib/python3.10/site-packages/pl_bolts/models/autoencoders/components.py:132: UnderReviewWarning: The feature resize_conv3x3 is currently marked under review. The compatibility with other Lightning projects is not guaranteed and API may change at any time. The API and functionality may change without warning in future releases. More details: https://lightning-bolts.readthedocs.io/en/latest/stability.html\n",
      "  self.conv1 = resize_conv3x3(inplanes, inplanes)\n"
     ]
    }
   ],
   "source": [
    "model = VAE(\n",
    "    enc_out_dim=512,\n",
    "    in_channels=1,\n",
    "    latent_dim=256,\n",
    "    input_height=28,\n",
    "    num_class=10\n",
    ")"
   ]
  },
  {
   "cell_type": "code",
   "execution_count": 10,
   "metadata": {
    "tags": []
   },
   "outputs": [],
   "source": [
    "callbacks = [\n",
    "    ModelSummary(max_depth=3),\n",
    "    ModelCheckpoint(\n",
    "        dirpath=f\"{cfg.vae.models}/vae_mnist\",\n",
    "        filename=\"tr_{epoch}\",\n",
    "        monitor=\"kl\",\n",
    "        mode=\"min\",\n",
    "        save_last=True,\n",
    "    ),\n",
    "]\n"
   ]
  },
  {
   "cell_type": "code",
   "execution_count": 11,
   "metadata": {
    "tags": []
   },
   "outputs": [
    {
     "name": "stderr",
     "output_type": "stream",
     "text": [
      "Trainer already configured with model summary callbacks: [<class 'lightning.pytorch.callbacks.model_summary.ModelSummary'>]. Skipping setting a default `ModelSummary` callback.\n",
      "GPU available: True (cuda), used: True\n",
      "TPU available: False, using: 0 TPU cores\n",
      "IPU available: False, using: 0 IPUs\n",
      "HPU available: False, using: 0 HPUs\n"
     ]
    }
   ],
   "source": [
    "trainer = L.Trainer(\n",
    "    accelerator=\"gpu\",\n",
    "    devices=[1],\n",
    "    num_nodes=1,\n",
    "    max_epochs=cfg.vae.epochs,\n",
    "    callbacks=callbacks\n",
    ")"
   ]
  },
  {
   "cell_type": "markdown",
   "metadata": {},
   "source": [
    "### Train Model"
   ]
  },
  {
   "cell_type": "code",
   "execution_count": null,
   "metadata": {
    "tags": []
   },
   "outputs": [
    {
     "name": "stderr",
     "output_type": "stream",
     "text": [
      "You are using a CUDA device ('NVIDIA RTX A6000') that has Tensor Cores. To properly utilize them, you should set `torch.set_float32_matmul_precision('medium' | 'high')` which will trade-off precision for performance. For more details, read https://pytorch.org/docs/stable/generated/torch.set_float32_matmul_precision.html#torch.set_float32_matmul_precision\n",
      "LOCAL_RANK: 0 - CUDA_VISIBLE_DEVICES: [0,1]\n",
      "\n",
      "   | Name             | Type              | Params\n",
      "--------------------------------------------------------\n",
      "0  | prepare          | Conv2d            | 30    \n",
      "1  | prepare_out      | Sequential        | 256   \n",
      "2  | prepare_out.0    | ConvTranspose2d   | 228   \n",
      "3  | prepare_out.1    | Conv2d            | 28    \n",
      "4  | encoder          | ResNetEncoder     | 11.2 M\n",
      "5  | encoder.conv1    | Conv2d            | 1.7 K \n",
      "6  | encoder.bn1      | BatchNorm2d       | 128   \n",
      "7  | encoder.relu     | ReLU              | 0     \n",
      "8  | encoder.maxpool  | MaxPool2d         | 0     \n",
      "9  | encoder.layer1   | Sequential        | 147 K \n",
      "10 | encoder.layer1.0 | EncoderBlock      | 74.0 K\n",
      "11 | encoder.layer1.1 | EncoderBlock      | 74.0 K\n",
      "12 | encoder.layer2   | Sequential        | 525 K \n",
      "13 | encoder.layer2.0 | EncoderBlock      | 230 K \n",
      "14 | encoder.layer2.1 | EncoderBlock      | 295 K \n",
      "15 | encoder.layer3   | Sequential        | 2.1 M \n",
      "16 | encoder.layer3.0 | EncoderBlock      | 919 K \n",
      "17 | encoder.layer3.1 | EncoderBlock      | 1.2 M \n",
      "18 | encoder.layer4   | Sequential        | 8.4 M \n",
      "19 | encoder.layer4.0 | EncoderBlock      | 3.7 M \n",
      "20 | encoder.layer4.1 | EncoderBlock      | 4.7 M \n",
      "21 | encoder.avgpool  | AdaptiveAvgPool2d | 0     \n",
      "22 | combine          | Linear            | 267 K \n",
      "23 | decoder          | ResNetDecoder     | 8.6 M \n",
      "24 | decoder.linear   | Linear            | 2.1 M \n",
      "25 | decoder.layer1   | Sequential        | 4.9 M \n",
      "26 | decoder.layer1.0 | DecoderBlock      | 3.7 M \n",
      "27 | decoder.layer1.1 | DecoderBlock      | 1.2 M \n",
      "28 | decoder.layer2   | Sequential        | 1.2 M \n",
      "29 | decoder.layer2.0 | DecoderBlock      | 918 K \n",
      "30 | decoder.layer2.1 | DecoderBlock      | 295 K \n",
      "31 | decoder.layer3   | Sequential        | 303 K \n",
      "32 | decoder.layer3.0 | DecoderBlock      | 229 K \n",
      "33 | decoder.layer3.1 | DecoderBlock      | 74.0 K\n",
      "34 | decoder.layer4   | Sequential        | 147 K \n",
      "35 | decoder.layer4.0 | DecoderBlock      | 74.0 K\n",
      "36 | decoder.layer4.1 | DecoderBlock      | 74.0 K\n",
      "37 | decoder.upscale  | Interpolate       | 0     \n",
      "38 | decoder.upscale1 | Interpolate       | 0     \n",
      "39 | decoder.conv1    | Conv2d            | 1.7 K \n",
      "40 | fc_mu            | Linear            | 131 K \n",
      "41 | fc_var           | Linear            | 131 K \n",
      "--------------------------------------------------------\n",
      "20.3 M    Trainable params\n",
      "0         Non-trainable params\n",
      "20.3 M    Total params\n",
      "81.301    Total estimated model params size (MB)\n"
     ]
    },
    {
     "data": {
      "application/vnd.jupyter.widget-view+json": {
       "model_id": "4a10a645ced34133b635fb26e4f2de6b",
       "version_major": 2,
       "version_minor": 0
      },
      "text/plain": [
       "Training: 0it [00:00, ?it/s]"
      ]
     },
     "metadata": {},
     "output_type": "display_data"
    }
   ],
   "source": [
    "trainer.fit(model=model, datamodule=datamodule)"
   ]
  },
  {
   "cell_type": "markdown",
   "metadata": {},
   "source": [
    "### Check Results"
   ]
  },
  {
   "cell_type": "code",
   "execution_count": null,
   "metadata": {
    "tags": []
   },
   "outputs": [],
   "source": [
    "plot_vae_results(model=model, datamodule=datamodule,\n",
    "                 class_map=datamodule.train_dataset.data.classes,\n",
    "                 num_images=25,\n",
    "                 num_classes=10)\n"
   ]
  },
  {
   "cell_type": "code",
   "execution_count": null,
   "metadata": {},
   "outputs": [],
   "source": []
  }
 ],
 "metadata": {
  "kernelspec": {
   "display_name": "Python 3 (ipykernel)",
   "language": "python",
   "name": "python3"
  },
  "language_info": {
   "codemirror_mode": {
    "name": "ipython",
    "version": 3
   },
   "file_extension": ".py",
   "mimetype": "text/x-python",
   "name": "python",
   "nbconvert_exporter": "python",
   "pygments_lexer": "ipython3",
   "version": "3.10.12"
  }
 },
 "nbformat": 4,
 "nbformat_minor": 4
}
